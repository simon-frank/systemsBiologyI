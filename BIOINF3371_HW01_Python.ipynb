{
 "cells": [
  {
   "cell_type": "markdown",
   "metadata": {},
   "source": [
    "# Homework 1\n",
    "----\n",
    "### Names:\n",
    "\n",
    "- Simon Frank\n",
    "- Moritz Päsler\n",
    "----"
   ]
  },
  {
   "cell_type": "markdown",
   "metadata": {},
   "source": [
    "A good Python tutorial can be found here: https://www.tutorialspoint.com/python/index.htm"
   ]
  },
  {
   "cell_type": "markdown",
   "metadata": {},
   "source": [
    "### 1. Assign the integer 96 to a variable (1 point)"
   ]
  },
  {
   "cell_type": "code",
   "execution_count": 39,
   "metadata": {},
   "outputs": [],
   "source": [
    "var = 96"
   ]
  },
  {
   "cell_type": "markdown",
   "metadata": {},
   "source": [
    "### 2. Divide by 6, take the square root, add 4, take the logarithm with base 2; use parentheses when necessary; store the result in another variable (4 points)"
   ]
  },
  {
   "cell_type": "code",
   "execution_count": 40,
   "metadata": {},
   "outputs": [
    {
     "name": "stdout",
     "output_type": "stream",
     "text": [
      "3.0\n"
     ]
    }
   ],
   "source": [
    "import math\n",
    "var2 = math.log2(math.sqrt((var/6)) + 4)\n",
    "print(var2)"
   ]
  },
  {
   "cell_type": "markdown",
   "metadata": {},
   "source": [
    "### 3. Assign a list of 9 numbers to a third variable (1 point)"
   ]
  },
  {
   "cell_type": "code",
   "execution_count": 41,
   "metadata": {},
   "outputs": [
    {
     "name": "stdout",
     "output_type": "stream",
     "text": [
      "[0, 1, 2, 3, 4, 5, 6, 7, 8]\n"
     ]
    }
   ],
   "source": [
    "var3 = list(range(9))\n",
    "print(var3)"
   ]
  },
  {
   "cell_type": "markdown",
   "metadata": {},
   "source": [
    "### 4. Divide the list variable from 3. by the result variable from 2. and store it in a new variable (2 points)"
   ]
  },
  {
   "cell_type": "code",
   "execution_count": 42,
   "metadata": {},
   "outputs": [
    {
     "name": "stdout",
     "output_type": "stream",
     "text": [
      "[0.0, 0.3333333333333333, 0.6666666666666666, 1.0, 1.3333333333333333, 1.6666666666666667, 2.0, 2.3333333333333335, 2.6666666666666665]\n"
     ]
    }
   ],
   "source": [
    "var4 = [x/var2 for x in var3]\n",
    "print(var4)"
   ]
  },
  {
   "cell_type": "markdown",
   "metadata": {},
   "source": [
    "### 5. Extract a sublist (ranging from element 4 to 7) from the result of 4."
   ]
  },
  {
   "cell_type": "code",
   "execution_count": 43,
   "metadata": {},
   "outputs": [
    {
     "name": "stdout",
     "output_type": "stream",
     "text": [
      "[1.0, 1.3333333333333333, 1.6666666666666667, 2.0]\n"
     ]
    }
   ],
   "source": [
    "var5=var4[3:7]\n",
    "print(var5)"
   ]
  },
  {
   "cell_type": "markdown",
   "metadata": {},
   "source": [
    "### 6. Given the list variable [1, 2, 5, 7.1, 4.5, 12.6, 5.6, 17.3, 15.2, 14.3, 19.5, 25, 32.5], filter the list to get a new list with numbers greater than 7 and smaller than 15, then replace all integers in the new list with their reciprocal. First do it plain Python, then with Sympy. (4 points)"
   ]
  },
  {
   "cell_type": "markdown",
   "metadata": {},
   "source": [
    "hint: http://docs.sympy.org/latest/tutorial"
   ]
  },
  {
   "cell_type": "code",
   "execution_count": 214,
   "metadata": {},
   "outputs": [
    {
     "name": "stdout",
     "output_type": "stream",
     "text": [
      "[7.1, 12.6, 14.3]\n",
      "[]\n",
      "[]\n"
     ]
    }
   ],
   "source": [
    "from sympy import *\n",
    "import sympy\n",
    "import numpy as np\n",
    "list1 = [1, 2, 5, 7.1, 4.5, 12.6, 5.6, 17.3, 15.2, 14.3, 19.5, 25, 32.5]\n",
    "list2 = [x for x in list1 if x>7 and x <15]\n",
    "print(list2)\n",
    "# plain python\n",
    "list3 = [1/(x) for x in list2 if isinstance(x, int)]\n",
    "print(list3)\n",
    "#with sympy\n",
    "x = symbols('x')\n",
    "expr = np.reciprocal(x)# using numpy reciprocal function\n",
    "f = lambdify(x, expr)\n",
    "list4 = f(np.array([(x) for x in list2 if isinstance(x, int)]))\n",
    "print(list4)"
   ]
  },
  {
   "cell_type": "markdown",
   "metadata": {},
   "source": [
    "### 7. Decrypt the following text \"f xj rpfkd mvqelk ql qoxkpixqb qefp qbuq. Toxkpixqfkd yv exka qxhbp jrze ilkdbo. f ilsb pvpqbjp yflildv.\" using Python. Make sure the result is a meaningful statement. (6 points)"
   ]
  },
  {
   "cell_type": "markdown",
   "metadata": {},
   "source": [
    "hint: read Asterix backwards, three times."
   ]
  },
  {
   "cell_type": "code",
   "execution_count": 47,
   "metadata": {},
   "outputs": [
    {
     "name": "stdout",
     "output_type": "stream",
     "text": [
      "i am using python to translate this text. Translating by hand takes much longer. i love systems biology.\n"
     ]
    }
   ],
   "source": [
    "import numpy as np\n",
    "text = \"f xj rpfkd mvqelk ql qoxkpixqb qefp qbuq. Qoxkpixqfkd yv exka qxhbp jrze ilkdbo. f ilsb pvpqbjp yflildv.\"\n",
    "def shift(offset, letter):\n",
    "    number = ord(letter)\n",
    "    if (number >= 97 and number <= 122):\n",
    "        numb2 = (number+offset)%123\n",
    "        if numb2 < 97:\n",
    "            numb2+=97\n",
    "        return chr(numb2)\n",
    "    if (number >=65 and number<=90):\n",
    "        numb2 = (number+offset)%91\n",
    "        if numb2 < 65:\n",
    "            numb2+=65\n",
    "        return chr(numb2)\n",
    "    else:\n",
    "        return letter\n",
    "def findcorrectoffset(text):\n",
    "    commonwords=['the', 'be', 'to', 'of', 'and', 'i', 'a', 'in', 'that', 'have']\n",
    "    allsolutions = [''.join(list(map(lambda x: shift(i,x), text))) for i in range(25)]\n",
    "    counts = np.array([solution.count(f' {word} ') for solution in allsolutions for word in commonwords]).reshape(25, len(commonwords))\n",
    "    return allsolutions[np.argmax(np.sum(counts, axis=1))]\n",
    "decrypted = findcorrectoffset(text)\n",
    "print(decrypted)"
   ]
  },
  {
   "cell_type": "markdown",
   "metadata": {},
   "source": [
    "[secret hint at the bottom](https://en.wikipedia.org/wiki/Caesar_cipher)"
   ]
  }
 ],
 "metadata": {
  "anaconda-cloud": {},
  "kernel_info": {
   "name": "python3"
  },
  "kernelspec": {
   "display_name": "sysbioI",
   "language": "python",
   "name": "sysbioi"
  },
  "language_info": {
   "codemirror_mode": {
    "name": "ipython",
    "version": 3
   },
   "file_extension": ".py",
   "mimetype": "text/x-python",
   "name": "python",
   "nbconvert_exporter": "python",
   "pygments_lexer": "ipython3",
   "version": "3.8.5"
  }
 },
 "nbformat": 4,
 "nbformat_minor": 1
}
